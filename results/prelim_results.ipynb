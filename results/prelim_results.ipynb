{
 "cells": [
  {
   "cell_type": "code",
   "execution_count": 1,
   "metadata": {
    "collapsed": true
   },
   "outputs": [],
   "source": [
    "import pandas"
   ]
  },
  {
   "cell_type": "code",
   "execution_count": 5,
   "metadata": {
    "collapsed": true
   },
   "outputs": [],
   "source": [
    "def count_people(df):\n",
    "    \"\"\"Count the number of people listed in the people column.\"\"\"\n",
    "    \n",
    "    for index, row in df.iterrows():\n",
    "        if pandas.notnull(row['people']):\n",
    "            npeople = len(row['people'].split(','))\n",
    "            row['people'] = npeople\n",
    "        else:\n",
    "            row['people'] = 0\n",
    "    \n",
    "    return df"
   ]
  },
  {
   "cell_type": "markdown",
   "metadata": {},
   "source": [
    "## Demographics"
   ]
  },
  {
   "cell_type": "markdown",
   "metadata": {},
   "source": [
    "### Field of research"
   ]
  },
  {
   "cell_type": "code",
   "execution_count": 10,
   "metadata": {
    "collapsed": true
   },
   "outputs": [],
   "source": [
    "research_field_df = pandas.read_csv('../data/anzsrc_research_groups.csv', header=0, encoding='utf-8-sig')\n",
    "research_field_df = count_people(research_field_df)"
   ]
  },
  {
   "cell_type": "code",
   "execution_count": 15,
   "metadata": {
    "collapsed": true
   },
   "outputs": [],
   "source": [
    "research_divisions = research_field_df.groupby('research_division')"
   ]
  },
  {
   "cell_type": "code",
   "execution_count": 20,
   "metadata": {
    "collapsed": false
   },
   "outputs": [
    {
     "data": {
      "text/plain": [
       "research_division\n",
       "agricultural and veterinary sciences          0\n",
       "biological sciences                           2\n",
       "built environment and design                  0\n",
       "chemical sciences                             0\n",
       "commerce, management, tourism and services    0\n",
       "earth sciences                                0\n",
       "economics                                     0\n",
       "education                                     0\n",
       "engineering                                   0\n",
       "environmental sciences                        0\n",
       "history and archaeology                       0\n",
       "information and computing sciences            0\n",
       "language, communication and culture           0\n",
       "law and legal studies                         0\n",
       "mathematical sciences                         0\n",
       "medical and health sciences                   2\n",
       "philosophy and religious studies              0\n",
       "physical sciences                             0\n",
       "psychology and cognitive sciences             0\n",
       "studies in creative arts and writing          0\n",
       "studies in human society                      0\n",
       "technology                                    0\n",
       "Name: people, dtype: int64"
      ]
     },
     "execution_count": 20,
     "metadata": {},
     "output_type": "execute_result"
    }
   ],
   "source": [
    "research_divisions.sum()['people']"
   ]
  },
  {
   "cell_type": "code",
   "execution_count": 21,
   "metadata": {
    "collapsed": false
   },
   "outputs": [
    {
     "data": {
      "text/html": [
       "<div>\n",
       "<table border=\"1\" class=\"dataframe\">\n",
       "  <thead>\n",
       "    <tr style=\"text-align: right;\">\n",
       "      <th></th>\n",
       "      <th>research_group</th>\n",
       "      <th>research_division</th>\n",
       "      <th>people</th>\n",
       "    </tr>\n",
       "  </thead>\n",
       "  <tbody>\n",
       "    <tr>\n",
       "      <th>32</th>\n",
       "      <td>biochemistry and cell biology</td>\n",
       "      <td>biological sciences</td>\n",
       "      <td>0</td>\n",
       "    </tr>\n",
       "    <tr>\n",
       "      <th>33</th>\n",
       "      <td>ecology</td>\n",
       "      <td>biological sciences</td>\n",
       "      <td>2</td>\n",
       "    </tr>\n",
       "    <tr>\n",
       "      <th>34</th>\n",
       "      <td>evolutionary biology</td>\n",
       "      <td>biological sciences</td>\n",
       "      <td>0</td>\n",
       "    </tr>\n",
       "    <tr>\n",
       "      <th>35</th>\n",
       "      <td>genetics</td>\n",
       "      <td>biological sciences</td>\n",
       "      <td>0</td>\n",
       "    </tr>\n",
       "    <tr>\n",
       "      <th>36</th>\n",
       "      <td>microbiology</td>\n",
       "      <td>biological sciences</td>\n",
       "      <td>0</td>\n",
       "    </tr>\n",
       "    <tr>\n",
       "      <th>37</th>\n",
       "      <td>physiology</td>\n",
       "      <td>biological sciences</td>\n",
       "      <td>0</td>\n",
       "    </tr>\n",
       "    <tr>\n",
       "      <th>38</th>\n",
       "      <td>plant biology</td>\n",
       "      <td>biological sciences</td>\n",
       "      <td>0</td>\n",
       "    </tr>\n",
       "    <tr>\n",
       "      <th>39</th>\n",
       "      <td>zoology</td>\n",
       "      <td>biological sciences</td>\n",
       "      <td>0</td>\n",
       "    </tr>\n",
       "    <tr>\n",
       "      <th>40</th>\n",
       "      <td>other biological sciences</td>\n",
       "      <td>biological sciences</td>\n",
       "      <td>0</td>\n",
       "    </tr>\n",
       "  </tbody>\n",
       "</table>\n",
       "</div>"
      ],
      "text/plain": [
       "                   research_group    research_division people\n",
       "32  biochemistry and cell biology  biological sciences      0\n",
       "33                        ecology  biological sciences      2\n",
       "34           evolutionary biology  biological sciences      0\n",
       "35                       genetics  biological sciences      0\n",
       "36                   microbiology  biological sciences      0\n",
       "37                     physiology  biological sciences      0\n",
       "38                  plant biology  biological sciences      0\n",
       "39                        zoology  biological sciences      0\n",
       "40      other biological sciences  biological sciences      0"
      ]
     },
     "execution_count": 21,
     "metadata": {},
     "output_type": "execute_result"
    }
   ],
   "source": [
    "research_divisions.get_group('biological sciences')"
   ]
  },
  {
   "cell_type": "code",
   "execution_count": 22,
   "metadata": {
    "collapsed": false
   },
   "outputs": [
    {
     "data": {
      "text/html": [
       "<div>\n",
       "<table border=\"1\" class=\"dataframe\">\n",
       "  <thead>\n",
       "    <tr style=\"text-align: right;\">\n",
       "      <th></th>\n",
       "      <th>research_group</th>\n",
       "      <th>research_division</th>\n",
       "      <th>people</th>\n",
       "    </tr>\n",
       "  </thead>\n",
       "  <tbody>\n",
       "    <tr>\n",
       "      <th>81</th>\n",
       "      <td>medical biochemistry and metabolomics</td>\n",
       "      <td>medical and health sciences</td>\n",
       "      <td>0</td>\n",
       "    </tr>\n",
       "    <tr>\n",
       "      <th>82</th>\n",
       "      <td>cardiorespiratory medicine and haematology</td>\n",
       "      <td>medical and health sciences</td>\n",
       "      <td>0</td>\n",
       "    </tr>\n",
       "    <tr>\n",
       "      <th>83</th>\n",
       "      <td>clinical sciences</td>\n",
       "      <td>medical and health sciences</td>\n",
       "      <td>0</td>\n",
       "    </tr>\n",
       "    <tr>\n",
       "      <th>84</th>\n",
       "      <td>complementary and alternative medicine</td>\n",
       "      <td>medical and health sciences</td>\n",
       "      <td>0</td>\n",
       "    </tr>\n",
       "    <tr>\n",
       "      <th>85</th>\n",
       "      <td>denistry</td>\n",
       "      <td>medical and health sciences</td>\n",
       "      <td>0</td>\n",
       "    </tr>\n",
       "    <tr>\n",
       "      <th>86</th>\n",
       "      <td>human movement and sports science</td>\n",
       "      <td>medical and health sciences</td>\n",
       "      <td>0</td>\n",
       "    </tr>\n",
       "    <tr>\n",
       "      <th>87</th>\n",
       "      <td>immunology</td>\n",
       "      <td>medical and health sciences</td>\n",
       "      <td>0</td>\n",
       "    </tr>\n",
       "    <tr>\n",
       "      <th>88</th>\n",
       "      <td>medical microbiology</td>\n",
       "      <td>medical and health sciences</td>\n",
       "      <td>0</td>\n",
       "    </tr>\n",
       "    <tr>\n",
       "      <th>89</th>\n",
       "      <td>neurosciences</td>\n",
       "      <td>medical and health sciences</td>\n",
       "      <td>1</td>\n",
       "    </tr>\n",
       "    <tr>\n",
       "      <th>90</th>\n",
       "      <td>nursing</td>\n",
       "      <td>medical and health sciences</td>\n",
       "      <td>0</td>\n",
       "    </tr>\n",
       "    <tr>\n",
       "      <th>91</th>\n",
       "      <td>nutrition and dietetics</td>\n",
       "      <td>medical and health sciences</td>\n",
       "      <td>0</td>\n",
       "    </tr>\n",
       "    <tr>\n",
       "      <th>92</th>\n",
       "      <td>oncology and carcinogenesis</td>\n",
       "      <td>medical and health sciences</td>\n",
       "      <td>1</td>\n",
       "    </tr>\n",
       "    <tr>\n",
       "      <th>93</th>\n",
       "      <td>ophthalmology and optometry</td>\n",
       "      <td>medical and health sciences</td>\n",
       "      <td>0</td>\n",
       "    </tr>\n",
       "    <tr>\n",
       "      <th>94</th>\n",
       "      <td>paediatrics and reproductive medicine</td>\n",
       "      <td>medical and health sciences</td>\n",
       "      <td>0</td>\n",
       "    </tr>\n",
       "    <tr>\n",
       "      <th>95</th>\n",
       "      <td>pharmacology and pharmaceutical sciences</td>\n",
       "      <td>medical and health sciences</td>\n",
       "      <td>0</td>\n",
       "    </tr>\n",
       "    <tr>\n",
       "      <th>96</th>\n",
       "      <td>medical physiology</td>\n",
       "      <td>medical and health sciences</td>\n",
       "      <td>0</td>\n",
       "    </tr>\n",
       "    <tr>\n",
       "      <th>97</th>\n",
       "      <td>public health and health services</td>\n",
       "      <td>medical and health sciences</td>\n",
       "      <td>0</td>\n",
       "    </tr>\n",
       "    <tr>\n",
       "      <th>98</th>\n",
       "      <td>other medical and health sciences</td>\n",
       "      <td>medical and health sciences</td>\n",
       "      <td>0</td>\n",
       "    </tr>\n",
       "  </tbody>\n",
       "</table>\n",
       "</div>"
      ],
      "text/plain": [
       "                                research_group            research_division  \\\n",
       "81       medical biochemistry and metabolomics  medical and health sciences   \n",
       "82  cardiorespiratory medicine and haematology  medical and health sciences   \n",
       "83                           clinical sciences  medical and health sciences   \n",
       "84      complementary and alternative medicine  medical and health sciences   \n",
       "85                                    denistry  medical and health sciences   \n",
       "86           human movement and sports science  medical and health sciences   \n",
       "87                                  immunology  medical and health sciences   \n",
       "88                        medical microbiology  medical and health sciences   \n",
       "89                               neurosciences  medical and health sciences   \n",
       "90                                     nursing  medical and health sciences   \n",
       "91                     nutrition and dietetics  medical and health sciences   \n",
       "92                 oncology and carcinogenesis  medical and health sciences   \n",
       "93                 ophthalmology and optometry  medical and health sciences   \n",
       "94       paediatrics and reproductive medicine  medical and health sciences   \n",
       "95    pharmacology and pharmaceutical sciences  medical and health sciences   \n",
       "96                          medical physiology  medical and health sciences   \n",
       "97           public health and health services  medical and health sciences   \n",
       "98           other medical and health sciences  medical and health sciences   \n",
       "\n",
       "   people  \n",
       "81      0  \n",
       "82      0  \n",
       "83      0  \n",
       "84      0  \n",
       "85      0  \n",
       "86      0  \n",
       "87      0  \n",
       "88      0  \n",
       "89      1  \n",
       "90      0  \n",
       "91      0  \n",
       "92      1  \n",
       "93      0  \n",
       "94      0  \n",
       "95      0  \n",
       "96      0  \n",
       "97      0  \n",
       "98      0  "
      ]
     },
     "execution_count": 22,
     "metadata": {},
     "output_type": "execute_result"
    }
   ],
   "source": [
    "research_divisions.get_group('medical and health sciences')"
   ]
  },
  {
   "cell_type": "code",
   "execution_count": null,
   "metadata": {
    "collapsed": true
   },
   "outputs": [],
   "source": []
  }
 ],
 "metadata": {
  "anaconda-cloud": {},
  "kernelspec": {
   "display_name": "Python [conda root]",
   "language": "python",
   "name": "conda-root-py"
  },
  "language_info": {
   "codemirror_mode": {
    "name": "ipython",
    "version": 3
   },
   "file_extension": ".py",
   "mimetype": "text/x-python",
   "name": "python",
   "nbconvert_exporter": "python",
   "pygments_lexer": "ipython3",
   "version": "3.5.2"
  }
 },
 "nbformat": 4,
 "nbformat_minor": 1
}

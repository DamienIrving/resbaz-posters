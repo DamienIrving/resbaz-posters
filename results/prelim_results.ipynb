{
 "cells": [
  {
   "cell_type": "code",
   "execution_count": 1,
   "metadata": {
    "collapsed": false
   },
   "outputs": [
    {
     "name": "stderr",
     "output_type": "stream",
     "text": [
      "/Applications/anaconda/lib/python3.5/site-packages/matplotlib/font_manager.py:273: UserWarning: Matplotlib is building the font cache using fc-list. This may take a moment.\n",
      "  warnings.warn('Matplotlib is building the font cache using fc-list. This may take a moment.')\n",
      "/Applications/anaconda/lib/python3.5/site-packages/matplotlib/font_manager.py:273: UserWarning: Matplotlib is building the font cache using fc-list. This may take a moment.\n",
      "  warnings.warn('Matplotlib is building the font cache using fc-list. This may take a moment.')\n"
     ]
    }
   ],
   "source": [
    "import pandas\n",
    "import matplotlib.pyplot as plt\n",
    "import seaborn"
   ]
  },
  {
   "cell_type": "code",
   "execution_count": 2,
   "metadata": {
    "collapsed": true
   },
   "outputs": [],
   "source": [
    "%matplotlib inline"
   ]
  },
  {
   "cell_type": "code",
   "execution_count": 3,
   "metadata": {
    "collapsed": true
   },
   "outputs": [],
   "source": [
    "seaborn.set_style()"
   ]
  },
  {
   "cell_type": "code",
   "execution_count": 4,
   "metadata": {
    "collapsed": true
   },
   "outputs": [],
   "source": [
    "def count_people(df):\n",
    "    \"\"\"Count the number of people listed in the people column.\"\"\"\n",
    "    \n",
    "    for index, row in df.iterrows():\n",
    "        if pandas.notnull(row['people']):\n",
    "            npeople = len(row['people'].split(','))\n",
    "            row['people'] = npeople\n",
    "        else:\n",
    "            row['people'] = 0\n",
    "    \n",
    "    return df"
   ]
  },
  {
   "cell_type": "markdown",
   "metadata": {},
   "source": [
    "## Demographics"
   ]
  },
  {
   "cell_type": "markdown",
   "metadata": {},
   "source": [
    "### Field of research"
   ]
  },
  {
   "cell_type": "code",
   "execution_count": 5,
   "metadata": {
    "collapsed": false
   },
   "outputs": [],
   "source": [
    "research_field_df = pandas.read_csv('../data/anzsrc_research_groups.csv', header=0, encoding='utf-8-sig')\n",
    "research_field_df = count_people(research_field_df)"
   ]
  },
  {
   "cell_type": "code",
   "execution_count": 6,
   "metadata": {
    "collapsed": false
   },
   "outputs": [],
   "source": [
    "research_divisions_gdf = research_field_df.groupby('research_division')"
   ]
  },
  {
   "cell_type": "code",
   "execution_count": 7,
   "metadata": {
    "collapsed": false
   },
   "outputs": [
    {
     "name": "stdout",
     "output_type": "stream",
     "text": [
      "research_division\n",
      "biological sciences                           39\n",
      "medical and health sciences                   34\n",
      "psychology and cognitive sciences             11\n",
      "engineering                                    8\n",
      "studies in human society                       6\n",
      "earth sciences                                 5\n",
      "environmental sciences                         5\n",
      "language, communication and culture            4\n",
      "information and computing sciences             4\n",
      "history and archaeology                        4\n",
      "mathematical sciences                          4\n",
      "commerce, management, tourism and services     3\n",
      "economics                                      3\n",
      "built environment and design                   2\n",
      "physical sciences                              2\n",
      "education                                      2\n",
      "chemical sciences                              2\n",
      "agricultural and veterinary sciences           1\n",
      "studies in creative arts and writing           1\n",
      "law and legal studies                          0\n",
      "philosophy and religious studies               0\n",
      "technology                                     0\n",
      "Name: people, dtype: int64\n"
     ]
    }
   ],
   "source": [
    "research_divisions_totals = research_divisions_gdf.sum()['people'].copy()\n",
    "research_divisions_totals.sort_values(inplace=True, ascending=False)\n",
    "print(research_divisions_totals)"
   ]
  },
  {
   "cell_type": "code",
   "execution_count": 8,
   "metadata": {
    "collapsed": false
   },
   "outputs": [
    {
     "data": {
      "text/html": [
       "<div>\n",
       "<table border=\"1\" class=\"dataframe\">\n",
       "  <thead>\n",
       "    <tr style=\"text-align: right;\">\n",
       "      <th></th>\n",
       "      <th>research_group</th>\n",
       "      <th>research_division</th>\n",
       "      <th>people</th>\n",
       "    </tr>\n",
       "  </thead>\n",
       "  <tbody>\n",
       "    <tr>\n",
       "      <th>33</th>\n",
       "      <td>ecology</td>\n",
       "      <td>biological sciences</td>\n",
       "      <td>12</td>\n",
       "    </tr>\n",
       "    <tr>\n",
       "      <th>35</th>\n",
       "      <td>genetics</td>\n",
       "      <td>biological sciences</td>\n",
       "      <td>11</td>\n",
       "    </tr>\n",
       "    <tr>\n",
       "      <th>39</th>\n",
       "      <td>zoology</td>\n",
       "      <td>biological sciences</td>\n",
       "      <td>7</td>\n",
       "    </tr>\n",
       "    <tr>\n",
       "      <th>32</th>\n",
       "      <td>biochemistry and cell biology</td>\n",
       "      <td>biological sciences</td>\n",
       "      <td>6</td>\n",
       "    </tr>\n",
       "    <tr>\n",
       "      <th>34</th>\n",
       "      <td>evolutionary biology</td>\n",
       "      <td>biological sciences</td>\n",
       "      <td>2</td>\n",
       "    </tr>\n",
       "    <tr>\n",
       "      <th>37</th>\n",
       "      <td>physiology</td>\n",
       "      <td>biological sciences</td>\n",
       "      <td>1</td>\n",
       "    </tr>\n",
       "    <tr>\n",
       "      <th>36</th>\n",
       "      <td>microbiology</td>\n",
       "      <td>biological sciences</td>\n",
       "      <td>0</td>\n",
       "    </tr>\n",
       "    <tr>\n",
       "      <th>38</th>\n",
       "      <td>plant biology</td>\n",
       "      <td>biological sciences</td>\n",
       "      <td>0</td>\n",
       "    </tr>\n",
       "    <tr>\n",
       "      <th>40</th>\n",
       "      <td>other biological sciences</td>\n",
       "      <td>biological sciences</td>\n",
       "      <td>0</td>\n",
       "    </tr>\n",
       "  </tbody>\n",
       "</table>\n",
       "</div>"
      ],
      "text/plain": [
       "                   research_group    research_division people\n",
       "33                        ecology  biological sciences     12\n",
       "35                       genetics  biological sciences     11\n",
       "39                        zoology  biological sciences      7\n",
       "32  biochemistry and cell biology  biological sciences      6\n",
       "34           evolutionary biology  biological sciences      2\n",
       "37                     physiology  biological sciences      1\n",
       "36                   microbiology  biological sciences      0\n",
       "38                  plant biology  biological sciences      0\n",
       "40      other biological sciences  biological sciences      0"
      ]
     },
     "execution_count": 8,
     "metadata": {},
     "output_type": "execute_result"
    }
   ],
   "source": [
    "research_field_df.loc[research_field_df['research_division'] == 'biological sciences'].sort_values('people', ascending=False)"
   ]
  },
  {
   "cell_type": "code",
   "execution_count": 9,
   "metadata": {
    "collapsed": false
   },
   "outputs": [
    {
     "data": {
      "text/html": [
       "<div>\n",
       "<table border=\"1\" class=\"dataframe\">\n",
       "  <thead>\n",
       "    <tr style=\"text-align: right;\">\n",
       "      <th></th>\n",
       "      <th>research_group</th>\n",
       "      <th>research_division</th>\n",
       "      <th>people</th>\n",
       "    </tr>\n",
       "  </thead>\n",
       "  <tbody>\n",
       "    <tr>\n",
       "      <th>89</th>\n",
       "      <td>neurosciences</td>\n",
       "      <td>medical and health sciences</td>\n",
       "      <td>11</td>\n",
       "    </tr>\n",
       "    <tr>\n",
       "      <th>97</th>\n",
       "      <td>public health and health services</td>\n",
       "      <td>medical and health sciences</td>\n",
       "      <td>6</td>\n",
       "    </tr>\n",
       "    <tr>\n",
       "      <th>86</th>\n",
       "      <td>human movement and sports science</td>\n",
       "      <td>medical and health sciences</td>\n",
       "      <td>4</td>\n",
       "    </tr>\n",
       "    <tr>\n",
       "      <th>92</th>\n",
       "      <td>oncology and carcinogenesis</td>\n",
       "      <td>medical and health sciences</td>\n",
       "      <td>4</td>\n",
       "    </tr>\n",
       "    <tr>\n",
       "      <th>93</th>\n",
       "      <td>ophthalmology and optometry</td>\n",
       "      <td>medical and health sciences</td>\n",
       "      <td>3</td>\n",
       "    </tr>\n",
       "    <tr>\n",
       "      <th>87</th>\n",
       "      <td>immunology</td>\n",
       "      <td>medical and health sciences</td>\n",
       "      <td>3</td>\n",
       "    </tr>\n",
       "    <tr>\n",
       "      <th>83</th>\n",
       "      <td>clinical sciences</td>\n",
       "      <td>medical and health sciences</td>\n",
       "      <td>1</td>\n",
       "    </tr>\n",
       "    <tr>\n",
       "      <th>88</th>\n",
       "      <td>medical microbiology</td>\n",
       "      <td>medical and health sciences</td>\n",
       "      <td>1</td>\n",
       "    </tr>\n",
       "    <tr>\n",
       "      <th>95</th>\n",
       "      <td>pharmacology and pharmaceutical sciences</td>\n",
       "      <td>medical and health sciences</td>\n",
       "      <td>1</td>\n",
       "    </tr>\n",
       "    <tr>\n",
       "      <th>81</th>\n",
       "      <td>medical biochemistry and metabolomics</td>\n",
       "      <td>medical and health sciences</td>\n",
       "      <td>0</td>\n",
       "    </tr>\n",
       "    <tr>\n",
       "      <th>96</th>\n",
       "      <td>medical physiology</td>\n",
       "      <td>medical and health sciences</td>\n",
       "      <td>0</td>\n",
       "    </tr>\n",
       "    <tr>\n",
       "      <th>94</th>\n",
       "      <td>paediatrics and reproductive medicine</td>\n",
       "      <td>medical and health sciences</td>\n",
       "      <td>0</td>\n",
       "    </tr>\n",
       "    <tr>\n",
       "      <th>90</th>\n",
       "      <td>nursing</td>\n",
       "      <td>medical and health sciences</td>\n",
       "      <td>0</td>\n",
       "    </tr>\n",
       "    <tr>\n",
       "      <th>91</th>\n",
       "      <td>nutrition and dietetics</td>\n",
       "      <td>medical and health sciences</td>\n",
       "      <td>0</td>\n",
       "    </tr>\n",
       "    <tr>\n",
       "      <th>82</th>\n",
       "      <td>cardiorespiratory medicine and haematology</td>\n",
       "      <td>medical and health sciences</td>\n",
       "      <td>0</td>\n",
       "    </tr>\n",
       "    <tr>\n",
       "      <th>85</th>\n",
       "      <td>denistry</td>\n",
       "      <td>medical and health sciences</td>\n",
       "      <td>0</td>\n",
       "    </tr>\n",
       "    <tr>\n",
       "      <th>84</th>\n",
       "      <td>complementary and alternative medicine</td>\n",
       "      <td>medical and health sciences</td>\n",
       "      <td>0</td>\n",
       "    </tr>\n",
       "    <tr>\n",
       "      <th>98</th>\n",
       "      <td>other medical and health sciences</td>\n",
       "      <td>medical and health sciences</td>\n",
       "      <td>0</td>\n",
       "    </tr>\n",
       "  </tbody>\n",
       "</table>\n",
       "</div>"
      ],
      "text/plain": [
       "                                research_group            research_division  \\\n",
       "89                               neurosciences  medical and health sciences   \n",
       "97           public health and health services  medical and health sciences   \n",
       "86           human movement and sports science  medical and health sciences   \n",
       "92                 oncology and carcinogenesis  medical and health sciences   \n",
       "93                 ophthalmology and optometry  medical and health sciences   \n",
       "87                                  immunology  medical and health sciences   \n",
       "83                           clinical sciences  medical and health sciences   \n",
       "88                        medical microbiology  medical and health sciences   \n",
       "95    pharmacology and pharmaceutical sciences  medical and health sciences   \n",
       "81       medical biochemistry and metabolomics  medical and health sciences   \n",
       "96                          medical physiology  medical and health sciences   \n",
       "94       paediatrics and reproductive medicine  medical and health sciences   \n",
       "90                                     nursing  medical and health sciences   \n",
       "91                     nutrition and dietetics  medical and health sciences   \n",
       "82  cardiorespiratory medicine and haematology  medical and health sciences   \n",
       "85                                    denistry  medical and health sciences   \n",
       "84      complementary and alternative medicine  medical and health sciences   \n",
       "98           other medical and health sciences  medical and health sciences   \n",
       "\n",
       "   people  \n",
       "89     11  \n",
       "97      6  \n",
       "86      4  \n",
       "92      4  \n",
       "93      3  \n",
       "87      3  \n",
       "83      1  \n",
       "88      1  \n",
       "95      1  \n",
       "81      0  \n",
       "96      0  \n",
       "94      0  \n",
       "90      0  \n",
       "91      0  \n",
       "82      0  \n",
       "85      0  \n",
       "84      0  \n",
       "98      0  "
      ]
     },
     "execution_count": 9,
     "metadata": {},
     "output_type": "execute_result"
    }
   ],
   "source": [
    "research_field_df.loc[research_field_df['research_division'] == 'medical and health sciences'].sort_values('people', ascending=False)"
   ]
  },
  {
   "cell_type": "markdown",
   "metadata": {},
   "source": [
    "### Career stage"
   ]
  },
  {
   "cell_type": "code",
   "execution_count": 10,
   "metadata": {
    "collapsed": true
   },
   "outputs": [],
   "source": [
    "people_df = pandas.read_csv('../data/people.csv', header=0, encoding='utf-8-sig')"
   ]
  },
  {
   "cell_type": "code",
   "execution_count": 11,
   "metadata": {
    "collapsed": true
   },
   "outputs": [],
   "source": [
    "career_stage_gdf = people_df.groupby('career stage')"
   ]
  },
  {
   "cell_type": "code",
   "execution_count": 12,
   "metadata": {
    "collapsed": false
   },
   "outputs": [
    {
     "name": "stdout",
     "output_type": "stream",
     "text": [
      "Total people: 138\n",
      "\n",
      "\n",
      "early-career 6\n",
      "honours 1\n",
      "masters 8\n",
      "mid-career 15\n",
      "phd 87\n",
      "postdoc 14\n",
      "research assistant 6\n",
      "senior-career 1\n"
     ]
    }
   ],
   "source": [
    "print('Total people:', len(people_df))\n",
    "print('\\n')\n",
    "for career_stage, career_stage_df in career_stage_gdf:\n",
    "    print(career_stage, len(career_stage_df))"
   ]
  },
  {
   "cell_type": "markdown",
   "metadata": {},
   "source": [
    "## Tools"
   ]
  },
  {
   "cell_type": "markdown",
   "metadata": {},
   "source": [
    "### Programming languages\n",
    "\n",
    "TODO: Add a category for \"none\" - for some disciplines, hardly anyone uses programming languages."
   ]
  },
  {
   "cell_type": "code",
   "execution_count": 13,
   "metadata": {
    "collapsed": true
   },
   "outputs": [],
   "source": [
    "programming_language_df = pandas.read_csv('../data/derived/people_programming_languages.csv', header=0, encoding='utf-8-sig')"
   ]
  },
  {
   "cell_type": "code",
   "execution_count": 14,
   "metadata": {
    "collapsed": false
   },
   "outputs": [
    {
     "name": "stdout",
     "output_type": "stream",
     "text": [
      "R                53\n",
      "Python           27\n",
      "MATLAB           24\n",
      "Unix Shell       18\n",
      "C / C++           6\n",
      "HTML              5\n",
      "Javascript        4\n",
      "MySQL             4\n",
      "Fortran           3\n",
      "CSS               2\n",
      "Perl              1\n",
      "Make              1\n",
      "PostgreSQL        1\n",
      "Visual Basic      1\n",
      "BigDataScript     1\n",
      "PHP               1\n",
      "Windows Shell     1\n",
      "SQLite            1\n",
      "AppleScript       1\n",
      "Clojure           1\n",
      "Name: tool, dtype: int64\n"
     ]
    }
   ],
   "source": [
    "print(programming_language_df['tool'].value_counts())\n",
    "\n",
    "#programming_language_df['tool'].value_counts().plot(kind='bar')\n",
    "#plt.ylabel('frequency')\n",
    "#plt.show()"
   ]
  },
  {
   "cell_type": "markdown",
   "metadata": {},
   "source": [
    "### General data science tools"
   ]
  },
  {
   "cell_type": "code",
   "execution_count": 15,
   "metadata": {
    "collapsed": true
   },
   "outputs": [],
   "source": [
    "general_datasci_df = pandas.read_csv('../data/derived/people_general_datasci_tools.csv', header=0, encoding='utf-8-sig')"
   ]
  },
  {
   "cell_type": "code",
   "execution_count": 16,
   "metadata": {
    "collapsed": true
   },
   "outputs": [],
   "source": [
    "general_datasci_purpose_gdf = general_datasci_df.groupby('purpose')"
   ]
  },
  {
   "cell_type": "code",
   "execution_count": 17,
   "metadata": {
    "collapsed": false
   },
   "outputs": [
    {
     "name": "stdout",
     "output_type": "stream",
     "text": [
      "# databases\n",
      "Access                   3\n",
      "Navicat                  1\n",
      "SQL Maestro for MySQL    1\n",
      "Name: tool, dtype: int64\n",
      "\n",
      "\n",
      "# file manipulation\n",
      "NCO    5\n",
      "Name: tool, dtype: int64\n",
      "\n",
      "\n",
      "# general\n",
      "GraphPad Prism    17\n",
      "ggplot             6\n",
      "Visio              5\n",
      "Shiny              5\n",
      "dplyr              3\n",
      "Mathematica        3\n",
      "Gephi              2\n",
      "JMP                2\n",
      "matplotlib         2\n",
      "D3.js              1\n",
      "Origin             1\n",
      "Tableau            1\n",
      "xarray             1\n",
      "gnuplot            1\n",
      "SigmaPlot          1\n",
      "Igor Pro           1\n",
      "Plotly             1\n",
      "Gnumetric          1\n",
      "SM                 1\n",
      "Name: tool, dtype: int64\n",
      "\n",
      "\n",
      "# qualitative data\n",
      "NVivo         11\n",
      "Leximancer     2\n",
      "Diogenes       1\n",
      "Name: tool, dtype: int64\n",
      "\n",
      "\n",
      "# spatial data\n",
      "ArcGIS          18\n",
      "Google Earth     5\n",
      "QGIS             4\n",
      "IDL              2\n",
      "SAGA             1\n",
      "CARTO            1\n",
      "cartopy          1\n",
      "TileMill         1\n",
      "Name: tool, dtype: int64\n",
      "\n",
      "\n",
      "# spreadsheets\n",
      "Excel            60\n",
      "Minitab           5\n",
      "Google Sheets     2\n",
      "Name: tool, dtype: int64\n",
      "\n",
      "\n",
      "# statistical modelling\n",
      "netlogo        2\n",
      "Netica         1\n",
      "Latent GOLD    1\n",
      "Name: tool, dtype: int64\n",
      "\n",
      "\n",
      "# statistics\n",
      "SPSS         35\n",
      "Stata        10\n",
      "SAS/STAT      4\n",
      "PRIMER-E      3\n",
      "SciPy         2\n",
      "SigmaStat     2\n",
      "Name: tool, dtype: int64\n",
      "\n",
      "\n"
     ]
    }
   ],
   "source": [
    "for purpose, purpose_df in general_datasci_purpose_gdf:\n",
    "    print('#', purpose)\n",
    "    print(purpose_df['tool'].value_counts())\n",
    "    \n",
    "    #purpose_df['tool'].value_counts().plot(kind='bar')\n",
    "    #plt.title(purpose)\n",
    "    #plt.ylabel('frequency')\n",
    "    #plt.show()\n",
    "\n",
    "    print('\\n')"
   ]
  },
  {
   "cell_type": "code",
   "execution_count": 18,
   "metadata": {
    "collapsed": false
   },
   "outputs": [
    {
     "data": {
      "text/plain": [
       "pay                               190\n",
       "free                               47\n",
       "free with advanced pay options      2\n",
       "Name: cost, dtype: int64"
      ]
     },
     "execution_count": 18,
     "metadata": {},
     "output_type": "execute_result"
    }
   ],
   "source": [
    "general_datasci_df['cost'].value_counts()"
   ]
  },
  {
   "cell_type": "code",
   "execution_count": 19,
   "metadata": {
    "collapsed": false
   },
   "outputs": [
    {
     "data": {
      "text/plain": [
       "closed    202\n",
       "open       34\n",
       "Name: source code, dtype: int64"
      ]
     },
     "execution_count": 19,
     "metadata": {},
     "output_type": "execute_result"
    }
   ],
   "source": [
    "general_datasci_df['source code'].value_counts()"
   ]
  },
  {
   "cell_type": "code",
   "execution_count": 20,
   "metadata": {
    "collapsed": false
   },
   "outputs": [
    {
     "data": {
      "text/plain": [
       "graphical                 203\n",
       "command line               31\n",
       "graphical,command line      5\n",
       "Name: user interface, dtype: int64"
      ]
     },
     "execution_count": 20,
     "metadata": {},
     "output_type": "execute_result"
    }
   ],
   "source": [
    "general_datasci_df['user interface'].value_counts()"
   ]
  },
  {
   "cell_type": "markdown",
   "metadata": {},
   "source": [
    "### Discipline specific tools"
   ]
  },
  {
   "cell_type": "code",
   "execution_count": 21,
   "metadata": {
    "collapsed": true
   },
   "outputs": [],
   "source": [
    "discipline_datasci_df = pandas.read_csv('../data/derived/people_discipline_datasci_tools.csv', header=0, encoding='utf-8-sig')"
   ]
  },
  {
   "cell_type": "code",
   "execution_count": 22,
   "metadata": {
    "collapsed": false
   },
   "outputs": [],
   "source": [
    "discipline_datasci_purpose_gdf = discipline_datasci_df.groupby('discipline')"
   ]
  },
  {
   "cell_type": "code",
   "execution_count": 23,
   "metadata": {
    "collapsed": false
   },
   "outputs": [
    {
     "name": "stdout",
     "output_type": "stream",
     "text": [
      "# astronomy\n",
      "S2PLOT        1\n",
      "Swarp         1\n",
      "TOPCAT        1\n",
      "Sextractor    1\n",
      "IRAF          1\n",
      "Name: tool, dtype: int64\n",
      "\n",
      "\n",
      "# bioinformatics\n",
      "Bioconductor    1\n",
      "Name: tool, dtype: int64\n",
      "\n",
      "\n",
      "# biological image processing\n",
      "Quantity One    1\n",
      "Name: tool, dtype: int64\n",
      "\n",
      "\n",
      "# biomedical\n",
      "XLSTAT-Biomed    1\n",
      "Galaxy           1\n",
      "Name: tool, dtype: int64\n",
      "\n",
      "\n",
      "# chemistry\n",
      "DS Visualizer      1\n",
      "moldraw            1\n",
      "Aspen Plus         1\n",
      "FINDSYM            1\n",
      "RDKit              1\n",
      "OpenEye toolkit    1\n",
      "Autodock           1\n",
      "Jmol               1\n",
      "ChemOffice         1\n",
      "GDIS               1\n",
      "Name: tool, dtype: int64\n",
      "\n",
      "\n",
      "# climate\n",
      "CDO     4\n",
      "iris    1\n",
      "NCL     1\n",
      "Name: tool, dtype: int64\n",
      "\n",
      "\n",
      "# economics\n",
      "EViews    1\n",
      "Name: tool, dtype: int64\n",
      "\n",
      "\n",
      "# epidemiology\n",
      "EpiData    1\n",
      "Name: tool, dtype: int64\n",
      "\n",
      "\n",
      "# flow cytometry\n",
      "FACSDIVA    2\n",
      "FlowJo      1\n",
      "Name: tool, dtype: int64\n",
      "\n",
      "\n",
      "# genomics\n",
      "Artemis                    2\n",
      "PGD Spider                 2\n",
      "Arlequin                   2\n",
      "IGV                        2\n",
      "VMD                        2\n",
      "DnaSP                      1\n",
      "Bayescan                   1\n",
      "Genome Analysis Toolkit    1\n",
      "Cytoscape                  1\n",
      "BRIG                       1\n",
      "Samtools                   1\n",
      "caret                      1\n",
      "GeneGO                     1\n",
      "BCFtools                   1\n",
      "PopART                     1\n",
      "GeneHunter                 1\n",
      "Partek                     1\n",
      "Contiguity                 1\n",
      "plink                      1\n",
      "adegenet                   1\n",
      "FreeBayes                  1\n",
      "VCFtools                   1\n",
      "Structure                  1\n",
      "Karyostudio                1\n",
      "GeneMapper                 1\n",
      "Degust                     1\n",
      "FASTLINK                   1\n",
      "Ikaros                     1\n",
      "Trimmomatic                1\n",
      "Mauve                      1\n",
      "Easyfig                    1\n",
      "Name: tool, dtype: int64\n",
      "\n",
      "\n",
      "# geographic image processing\n",
      "LAStools    1\n",
      "ENVI        1\n",
      "Name: tool, dtype: int64\n",
      "\n",
      "\n",
      "# medical image processing\n",
      "ImageJ           18\n",
      "Freesurfer        4\n",
      "FSL               4\n",
      "MRtrix3           3\n",
      "SPM               2\n",
      "itk-SNAP          2\n",
      "iso2mesh          1\n",
      "MAGeTBrain        1\n",
      "REST              1\n",
      "EdgeTrak          1\n",
      "MRIcron           1\n",
      "BrainNet          1\n",
      "CONN              1\n",
      "Brain Voyager     1\n",
      "ANTs              1\n",
      "MRIcroGL          1\n",
      "Name: tool, dtype: int64\n",
      "\n",
      "\n",
      "# meta-analysis\n",
      "Comprehensive Meta-Analysis    1\n",
      "RevMan                         1\n",
      "Name: tool, dtype: int64\n",
      "\n",
      "\n",
      "# morphometrics\n",
      "morpho-tools.net    1\n",
      "Name: tool, dtype: int64\n",
      "\n",
      "\n",
      "# phonetics\n",
      "emuR     1\n",
      "Praat    1\n",
      "Name: tool, dtype: int64\n",
      "\n",
      "\n",
      "# phylogenetics\n",
      "Beast2      2\n",
      "EvolView    1\n",
      "TNT         1\n",
      "Name: tool, dtype: int64\n",
      "\n",
      "\n",
      "# protein sequencing\n",
      "MEGA       2\n",
      "Clustal    1\n",
      "HMMER      1\n",
      "Mutalin    1\n",
      "BioEdit    1\n",
      "BWA        1\n",
      "BLAST      1\n",
      "Name: tool, dtype: int64\n",
      "\n",
      "\n",
      "# psychology\n",
      "ePrime      2\n",
      "PsychoPy    1\n",
      "Name: tool, dtype: int64\n",
      "\n",
      "\n",
      "# risk analysis\n",
      "@Risk    1\n",
      "Name: tool, dtype: int64\n",
      "\n",
      "\n",
      "# social sciences\n",
      "PanelWhiz    1\n",
      "Name: tool, dtype: int64\n",
      "\n",
      "\n",
      "# structural equation modeling\n",
      "AMOS    4\n",
      "Name: tool, dtype: int64\n",
      "\n",
      "\n"
     ]
    }
   ],
   "source": [
    "for discipline, discipline_df in discipline_datasci_purpose_gdf:\n",
    "    print('#', discipline)\n",
    "    print(discipline_df['tool'].value_counts())\n",
    "    \n",
    "    #purpose_df['tool'].value_counts().plot(kind='bar')\n",
    "    #plt.title(purpose)\n",
    "    #plt.ylabel('frequency')\n",
    "    #plt.show()\n",
    "\n",
    "    print('\\n')"
   ]
  },
  {
   "cell_type": "code",
   "execution_count": 24,
   "metadata": {
    "collapsed": false
   },
   "outputs": [
    {
     "data": {
      "text/plain": [
       "free    112\n",
       "pay      25\n",
       "Name: cost, dtype: int64"
      ]
     },
     "execution_count": 24,
     "metadata": {},
     "output_type": "execute_result"
    }
   ],
   "source": [
    "discipline_datasci_df['cost'].value_counts()"
   ]
  },
  {
   "cell_type": "code",
   "execution_count": 25,
   "metadata": {
    "collapsed": false
   },
   "outputs": [
    {
     "data": {
      "text/plain": [
       "closed    70\n",
       "open      66\n",
       "Name: source code, dtype: int64"
      ]
     },
     "execution_count": 25,
     "metadata": {},
     "output_type": "execute_result"
    }
   ],
   "source": [
    "discipline_datasci_df['source code'].value_counts()"
   ]
  },
  {
   "cell_type": "code",
   "execution_count": 26,
   "metadata": {
    "collapsed": false
   },
   "outputs": [
    {
     "data": {
      "text/plain": [
       "graphical                     84\n",
       "command line                  25\n",
       "graphical and command line    23\n",
       "website                        4\n",
       "Name: user interface, dtype: int64"
      ]
     },
     "execution_count": 26,
     "metadata": {},
     "output_type": "execute_result"
    }
   ],
   "source": [
    "discipline_datasci_df['user interface'].value_counts()"
   ]
  },
  {
   "cell_type": "markdown",
   "metadata": {},
   "source": [
    "### Support tools\n",
    "\n",
    "TODO: Add a category for \"none\" in the version control section (i.e. people who identify as using a programming language but aren't using version control)"
   ]
  },
  {
   "cell_type": "code",
   "execution_count": 27,
   "metadata": {
    "collapsed": true
   },
   "outputs": [],
   "source": [
    "support_tool_df = pandas.read_csv('../data/derived/people_support_tools.csv', header=0, encoding='utf-8-sig')"
   ]
  },
  {
   "cell_type": "code",
   "execution_count": 28,
   "metadata": {
    "collapsed": true
   },
   "outputs": [],
   "source": [
    "support_tool_gdf = support_tool_df.groupby(['category', 'task'])"
   ]
  },
  {
   "cell_type": "code",
   "execution_count": 29,
   "metadata": {
    "collapsed": false
   },
   "outputs": [
    {
     "name": "stdout",
     "output_type": "stream",
     "text": [
      "# 3D design: molecular visualisation\n",
      "PyMOL                  1\n",
      "Molsoft ICM-Browser    1\n",
      "Name: tool, dtype: int64\n",
      "\n",
      "\n",
      "# code development: editors\n",
      "Sublime         9\n",
      "Vim             8\n",
      "Notepad++       8\n",
      "TextWrangler    4\n",
      "Atom            2\n",
      "Nedit           2\n",
      "JEdit           1\n",
      "LiveCode        1\n",
      "Emacs           1\n",
      "GEdit           1\n",
      "Kate            1\n",
      "Name: tool, dtype: int64\n",
      "\n",
      "\n",
      "# code development: interactive development environments\n",
      "RStudio             26\n",
      "Jupyter notebook     5\n",
      "IDLE                 1\n",
      "Spyder               1\n",
      "Name: tool, dtype: int64\n",
      "\n",
      "\n",
      "# data collection: audio editing/transcribing\n",
      "Express Scribe    1\n",
      "Audacity          1\n",
      "Name: tool, dtype: int64\n",
      "\n",
      "\n",
      "# data collection: behavioural observation\n",
      "Observer XT    1\n",
      "Name: tool, dtype: int64\n",
      "\n",
      "\n",
      "# data collection: sound\n",
      "Raven    1\n",
      "Name: tool, dtype: int64\n",
      "\n",
      "\n",
      "# data collection: surveys\n",
      "Google Forms     3\n",
      "Qualtrics        2\n",
      "REDCap           2\n",
      "Inquisit         2\n",
      "Survey Monkey    1\n",
      "Limesurvey       1\n",
      "Name: tool, dtype: int64\n",
      "\n",
      "\n",
      "# data collection: video editing\n",
      "VLC                    3\n",
      "Adobe Premier          2\n",
      "Stop Motion Studio     1\n",
      "MPEG streamclip        1\n",
      "iMovie                 1\n",
      "WIPster                1\n",
      "PowerDirector          1\n",
      "Adobe After Effects    1\n",
      "CamStudio              1\n",
      "Name: tool, dtype: int64\n",
      "\n",
      "\n",
      "# file management: backup\n",
      "MS SyncToy      1\n",
      "Time machine    1\n",
      "Name: tool, dtype: int64\n",
      "\n",
      "\n",
      "# file management: organisation\n",
      "Hazel    1\n",
      "Name: tool, dtype: int64\n",
      "\n",
      "\n",
      "# file management: search\n",
      "Alfred    1\n",
      "Name: tool, dtype: int64\n",
      "\n",
      "\n",
      "# file management: storage/sharing\n",
      "Dropbox         60\n",
      "Google Drive    31\n",
      "OneDrive         5\n",
      "CloudStor        2\n",
      "Gcloud           1\n",
      "SpiderOak        1\n",
      "WeTransfer       1\n",
      "Backblaze        1\n",
      "Name: tool, dtype: int64\n",
      "\n",
      "\n",
      "# file management: version control\n",
      "Git            34\n",
      "GitHub         23\n",
      "Bitbucket       5\n",
      "Sourcetree      2\n",
      "Tower           1\n",
      "Subversion      1\n",
      "TortoiseGit     1\n",
      "Mercurial       1\n",
      "Name: tool, dtype: int64\n",
      "\n",
      "\n",
      "# information management: concept/mind mapping\n",
      "MindMup      2\n",
      "FreeMind     2\n",
      "CmapTools    2\n",
      "Xmind        1\n",
      "Coggle       1\n",
      "Name: tool, dtype: int64\n",
      "\n",
      "\n",
      "# information management: finding data\n",
      "Trove           1\n",
      "Trismegistos    1\n",
      "Diogenes        1\n",
      "Name: tool, dtype: int64\n",
      "\n",
      "\n",
      "# information management: note taking\n",
      "Evernote                     23\n",
      "OneNote                       4\n",
      "Dragon Speech Recognition     2\n",
      "DayOne                        1\n",
      "Simplenote                    1\n",
      "Byword                        1\n",
      "Audio Memos                   1\n",
      "GoodNotes                     1\n",
      "Name: tool, dtype: int64\n",
      "\n",
      "\n",
      "# information management: online information\n",
      "Feedly    2\n",
      "Padlet    1\n",
      "Name: tool, dtype: int64\n",
      "\n",
      "\n",
      "# information management: pdf reading/annotation\n",
      "Master PDF Editor    1\n",
      "GoodReader           1\n",
      "Adobe Acrobat        1\n",
      "Skim                 1\n",
      "Name: tool, dtype: int64\n",
      "\n",
      "\n",
      "# information management: project management\n",
      "Asana            2\n",
      "Gantter          1\n",
      "Gantt project    1\n",
      "Trello           1\n",
      "Wunderlist       1\n",
      "Pomodone         1\n",
      "Todoist          1\n",
      "Name: tool, dtype: int64\n",
      "\n",
      "\n",
      "# information management: reference management\n",
      "EndNote              58\n",
      "Mendeley             22\n",
      "Papers               11\n",
      "Zotero                7\n",
      "Bibtex                5\n",
      "ReadCube              3\n",
      "citethisforme.com     1\n",
      "RefWorks              1\n",
      "BibDesk               1\n",
      "Jabref                1\n",
      "Qiqqa                 1\n",
      "Name: tool, dtype: int64\n",
      "\n",
      "\n",
      "# information management: time management\n",
      "Tomighty           1\n",
      "Google Calendar    1\n",
      "Rescue time        1\n",
      "Handle             1\n",
      "Time Out           1\n",
      "Eggscellent        1\n",
      "Name: tool, dtype: int64\n",
      "\n",
      "\n",
      "# research presentation: document conversion\n",
      "Pandoc    1\n",
      "Name: tool, dtype: int64\n",
      "\n",
      "\n",
      "# research presentation: document editing\n",
      "Word                 76\n",
      "LaTeX                22\n",
      "Google Docs          12\n",
      "Scrivener            10\n",
      "OpenOffice Writer     9\n",
      "Markdown              6\n",
      "Authorea              4\n",
      "knitr                 3\n",
      "TeXWorks              3\n",
      "R Markdown            2\n",
      "TeXPad                2\n",
      "TEXnicCenter          2\n",
      "TeXMaker              1\n",
      "MultiMarkdown         1\n",
      "TeXShop               1\n",
      "Foxit PDF             1\n",
      "Marked2               1\n",
      "WinEdt                1\n",
      "Adobe PDF             1\n",
      "LyX                   1\n",
      "Pages                 1\n",
      "Name: tool, dtype: int64\n",
      "\n",
      "\n",
      "# research presentation: graphics editing\n",
      "Photoshop       29\n",
      "GIMP            21\n",
      "Illustrator     18\n",
      "Inkscape        11\n",
      "Adobe Kuler      2\n",
      "Paint.NET        2\n",
      "SigmaScan        1\n",
      "IrfanView        1\n",
      "Omnigaffle       1\n",
      "Aperture         1\n",
      "Pixelmator       1\n",
      "CorrelDraw       1\n",
      "Noun Project     1\n",
      "Piktochart       1\n",
      "Name: tool, dtype: int64\n",
      "\n",
      "\n",
      "# research presentation: slides\n",
      "PowerPoint                          85\n",
      "Prezi                               11\n",
      "Keynote                              7\n",
      "Beamer                               3\n",
      "InDesign                             2\n",
      "Open Office Impress Presentation     2\n",
      "LaTeX Powerdot                       1\n",
      "Slidify                              1\n",
      "Haiku Deck                           1\n",
      "Google Slides                        1\n",
      "R presentations                      1\n",
      "Name: tool, dtype: int64\n",
      "\n",
      "\n",
      "# research presentation: web hosting\n",
      "bitnami LAMP             1\n",
      "XAMPP                    1\n",
      "Google Cloud Platform    1\n",
      "Name: tool, dtype: int64\n",
      "\n",
      "\n"
     ]
    }
   ],
   "source": [
    "for category_task, task_df in support_tool_gdf:\n",
    "    print('#', category_task[0] + ': ' + category_task[1])\n",
    "    print(task_df['tool'].value_counts())\n",
    "    print('\\n')\n",
    "    #task_df['tool'].value_counts().plot(kind='bar')\n",
    "    #plt.title(category_task[0] + ': ' + category_task[1])\n",
    "    #plt.ylabel('frequency')\n",
    "    #plt.show()"
   ]
  },
  {
   "cell_type": "code",
   "execution_count": null,
   "metadata": {
    "collapsed": false
   },
   "outputs": [],
   "source": []
  }
 ],
 "metadata": {
  "anaconda-cloud": {},
  "kernelspec": {
   "display_name": "Python [default]",
   "language": "python",
   "name": "python3"
  },
  "language_info": {
   "codemirror_mode": {
    "name": "ipython",
    "version": 3
   },
   "file_extension": ".py",
   "mimetype": "text/x-python",
   "name": "python",
   "nbconvert_exporter": "python",
   "pygments_lexer": "ipython3",
   "version": "3.5.2"
  }
 },
 "nbformat": 4,
 "nbformat_minor": 1
}
